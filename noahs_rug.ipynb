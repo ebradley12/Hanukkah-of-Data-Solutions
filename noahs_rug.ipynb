{
 "cells": [
  {
   "cell_type": "markdown",
   "metadata": {},
   "source": [
    "## Noah's Rug Coding Challenge"
   ]
  },
  {
   "cell_type": "markdown",
   "metadata": {},
   "source": [
    "# Imports"
   ]
  },
  {
   "cell_type": "code",
   "execution_count": 4,
   "metadata": {},
   "outputs": [],
   "source": [
    "import pandas as pd"
   ]
  },
  {
   "cell_type": "markdown",
   "metadata": {},
   "source": [
    "# Data Sourcing"
   ]
  },
  {
   "cell_type": "code",
   "execution_count": 5,
   "metadata": {},
   "outputs": [],
   "source": [
    "customers = pd.read_csv(\"5784/noahs-customers.csv\")"
   ]
  },
  {
   "cell_type": "markdown",
   "metadata": {},
   "source": [
    "# Data Exploration "
   ]
  },
  {
   "cell_type": "code",
   "execution_count": 6,
   "metadata": {},
   "outputs": [
    {
     "data": {
      "text/plain": [
       "<bound method NDFrame.head of       customerid                     name                address  \\\n",
       "0           1001       Jacqueline Alvarez      105N Elizabeth St   \n",
       "1           1002             Julie Howell        185-1 Linden St   \n",
       "2           1003          Christopher Ali    174-28 Baisley Blvd   \n",
       "3           1004    Christopher Rodriguez      102 Mount Hope Pl   \n",
       "4           1005        Jeffrey Wilkinson         17 St Marks Pl   \n",
       "...          ...                      ...                    ...   \n",
       "8255        9256           Leslie Johnson           2364 1st Ave   \n",
       "8256        9257            Susan Gilmore  1025B Castle Hill Ave   \n",
       "8257        9258  Valerie Michelle Bowman           98 Aspen Way   \n",
       "8258        9259               Sandy Rios     143-9 Ferndale Ave   \n",
       "8259        9260           Michael Brooks           1703 Park Pl   \n",
       "\n",
       "             citystatezip   birthdate         phone             timezone  \\\n",
       "0     Manhattan, NY 10013  1958-01-23  315-377-5031     America/New_York   \n",
       "1      Brooklyn, NY 11221  1956-12-03  680-537-8725     America/New_York   \n",
       "2       Jamaica, NY 11434  2001-09-20  315-846-6054     America/New_York   \n",
       "3         Bronx, NY 10453  1959-07-10  516-275-2292     America/New_York   \n",
       "4     Manhattan, NY 10003  1988-09-08  838-830-6960     America/New_York   \n",
       "...                   ...         ...           ...                  ...   \n",
       "8255  Manhattan, NY 10035  1995-01-02  914-511-7261     America/New_York   \n",
       "8256      Bronx, NY 10472  1960-11-11  516-774-9355     America/New_York   \n",
       "8257     Denver, CO 80294  1992-02-09  719-991-9904       America/Denver   \n",
       "8258    Jamaica, NY 11435  1954-05-02  516-361-8507     America/New_York   \n",
       "8259   Hesperia, CA 92344  1945-09-26  415-339-0869  America/Los_Angeles   \n",
       "\n",
       "           lat        long  \n",
       "0     40.71817  -73.997468  \n",
       "1     40.69426  -73.921670  \n",
       "2     40.68902  -73.773470  \n",
       "3     40.84939  -73.909160  \n",
       "4     40.72804  -73.987120  \n",
       "...        ...         ...  \n",
       "8255  40.80120  -73.932930  \n",
       "8256  40.82980  -73.850300  \n",
       "8257  39.76200 -104.875800  \n",
       "8258  40.69033  -73.798100  \n",
       "8259  34.39750 -117.314700  \n",
       "\n",
       "[8260 rows x 9 columns]>"
      ]
     },
     "execution_count": 6,
     "metadata": {},
     "output_type": "execute_result"
    }
   ],
   "source": [
    "customers.head"
   ]
  }
 ],
 "metadata": {
  "kernelspec": {
   "display_name": ".venv",
   "language": "python",
   "name": "python3"
  },
  "language_info": {
   "codemirror_mode": {
    "name": "ipython",
    "version": 3
   },
   "file_extension": ".py",
   "mimetype": "text/x-python",
   "name": "python",
   "nbconvert_exporter": "python",
   "pygments_lexer": "ipython3",
   "version": "3.12.5"
  }
 },
 "nbformat": 4,
 "nbformat_minor": 2
}
